{
 "cells": [
  {
   "cell_type": "code",
   "execution_count": 1,
   "id": "a62afed2-df31-4c13-85cf-1e18e46741f2",
   "metadata": {},
   "outputs": [],
   "source": [
    "import pandas as  pd"
   ]
  },
  {
   "cell_type": "code",
   "execution_count": null,
   "id": "c379c494-2449-4198-8925-decd8dd525e0",
   "metadata": {},
   "outputs": [],
   "source": [
    "df = pd.read_csv(\"gfg.txt\", sep=\" \")"
   ]
  }
 ],
 "metadata": {
  "kernelspec": {
   "display_name": "Python 3 (ipykernel)",
   "language": "python",
   "name": "python3"
  },
  "language_info": {
   "codemirror_mode": {
    "name": "ipython",
    "version": 3
   },
   "file_extension": ".py",
   "mimetype": "text/x-python",
   "name": "python",
   "nbconvert_exporter": "python",
   "pygments_lexer": "ipython3",
   "version": "3.12.4"
  }
 },
 "nbformat": 4,
 "nbformat_minor": 5
}
